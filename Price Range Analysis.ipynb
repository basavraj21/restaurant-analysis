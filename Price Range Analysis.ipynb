{
 "cells": [
  {
   "cell_type": "markdown",
   "id": "c3aa1f78-d372-43bb-90b0-2bc619b272bf",
   "metadata": {},
   "source": [
    "## LEVEL 2 \n",
    "\n"
   ]
  },
  {
   "cell_type": "markdown",
   "id": "9eba511d-e20f-4709-b2ad-9ab9f28ca08a",
   "metadata": {},
   "source": [
    "## TASK 1  - \n",
    "\n",
    "Table Booking and Online Delivery\n",
    "\n",
    "1. Determine the percentage of restaurants that offer table booking and online delivery.\n",
    "\n",
    "2. Compare the average ratings of restaurants with table booking and those without.\n",
    "\n",
    "3. Analyze the availability of online delivery among restaurants with different price ranges."
   ]
  },
  {
   "cell_type": "code",
   "execution_count": 3,
   "id": "14a36670-e022-4c3f-a14c-6271ca98559d",
   "metadata": {},
   "outputs": [],
   "source": [
    "import pandas as pd\n"
   ]
  },
  {
   "cell_type": "code",
   "execution_count": 4,
   "id": "4448a278-b679-4597-84e3-e1c62a769865",
   "metadata": {},
   "outputs": [],
   "source": [
    "import matplotlib.pyplot as plt\n"
   ]
  },
  {
   "cell_type": "code",
   "execution_count": 5,
   "id": "61f2be3a-e56f-4f66-9ef1-0ade5c9affb1",
   "metadata": {},
   "outputs": [],
   "source": [
    "import seaborn as sns\n"
   ]
  },
  {
   "cell_type": "code",
   "execution_count": 6,
   "id": "55599251-632d-4689-93f3-e93050b2c339",
   "metadata": {},
   "outputs": [],
   "source": [
    "df = pd.read_csv('Dataset .csv')"
   ]
  },
  {
   "cell_type": "markdown",
   "id": "3c30780a-5400-46b9-90b8-3e681cc272bc",
   "metadata": {},
   "source": [
    "## 1. Determine the percentage of restaurants that offer table booking and online delivery."
   ]
  },
  {
   "cell_type": "code",
   "execution_count": 7,
   "id": "12a033b8-663a-4f7a-9254-2bd73ae7d6c9",
   "metadata": {},
   "outputs": [],
   "source": [
    "#1 Calculate percentage of restaurants offering table booking\n",
    "table_booking_percentage = (df['Has Table booking'].value_counts(normalize=True)['Yes']) * 100"
   ]
  },
  {
   "cell_type": "code",
   "execution_count": 10,
   "id": "35042575-3a88-4db0-bc7f-a2fbf1e21410",
   "metadata": {},
   "outputs": [],
   "source": [
    "# Calculate percentage of restaurants offering online delivery\n",
    "online_delivery_percentage = (df['Has Online delivery'].value_counts(normalize=True)['Yes']) * 100"
   ]
  },
  {
   "cell_type": "code",
   "execution_count": 11,
   "id": "82a4d990-0581-4131-a0ba-ad69098e7676",
   "metadata": {},
   "outputs": [
    {
     "name": "stdout",
     "output_type": "stream",
     "text": [
      "Percentage of restaurants offering table booking: 12.12%\n",
      "Percentage of restaurants offering online delivery: 25.66%\n"
     ]
    }
   ],
   "source": [
    "print(f\"Percentage of restaurants offering table booking: {table_booking_percentage:.2f}%\")\n",
    "print(f\"Percentage of restaurants offering online delivery: {online_delivery_percentage:.2f}%\")"
   ]
  },
  {
   "cell_type": "code",
   "execution_count": 29,
   "id": "dba30a5c-438f-48c6-b923-dd9772c8d566",
   "metadata": {},
   "outputs": [],
   "source": [
    "df = pd.read_csv('Dataset .csv')"
   ]
  },
  {
   "cell_type": "code",
   "execution_count": 9,
   "id": "e4019be8-15c9-46e3-861e-f87a818100a1",
   "metadata": {},
   "outputs": [],
   "source": [
    "df['table_booking_binary'] = df['Has Table booking'].apply(lambda x: 1 if x == 'Yes' else 0)\n"
   ]
  },
  {
   "cell_type": "markdown",
   "id": "8e3f3ff9-e48e-49ab-a90f-9ff2b339274f",
   "metadata": {},
   "source": [
    "## 2. Compare the average ratings of restaurants with table booking and those without."
   ]
  },
  {
   "cell_type": "code",
   "execution_count": 11,
   "id": "72de7ad2-b648-4d01-a926-fcce74b9680c",
   "metadata": {},
   "outputs": [],
   "source": [
    "# Calculate average rating for restaurants with table booking\n",
    "avg_rating_with_booking = df[df['table_booking_binary'] == 1]['Aggregate rating'].mean()\n",
    "\n",
    "# Calculate average rating for restaurants without table booking\n",
    "avg_rating_without_booking = df[df['table_booking_binary'] == 0]['Aggregate rating'].mean()"
   ]
  },
  {
   "cell_type": "code",
   "execution_count": 39,
   "id": "1d6e0b4e-27ce-4d0f-9529-5a2f94540e15",
   "metadata": {},
   "outputs": [
    {
     "name": "stdout",
     "output_type": "stream",
     "text": [
      "Average rating of restaurants with table booking: 3.44\n",
      "Average rating of restaurants without table booking: 2.56\n"
     ]
    }
   ],
   "source": [
    "print(f\"Average rating of restaurants with table booking: {avg_rating_with_booking:.2f}\")\n",
    "print(f\"Average rating of restaurants without table booking: {avg_rating_without_booking:.2f}\")"
   ]
  },
  {
   "cell_type": "markdown",
   "id": "f36285f5-cbb0-4856-a569-8ad0f99c2c81",
   "metadata": {},
   "source": [
    "## 3. Analyze Online Delivery Availability Among Restaurants with Different Price Ranges"
   ]
  },
  {
   "cell_type": "code",
   "execution_count": 56,
   "id": "3ea9e520-7b66-4fca-956f-9c9d70212f5d",
   "metadata": {},
   "outputs": [],
   "source": [
    "import matplotlib.pyplot as plt\n",
    "import seaborn as sns\n",
    "df = pd.read_csv('Dataset .csv')\n"
   ]
  },
  {
   "cell_type": "code",
   "execution_count": 76,
   "id": "1db92e96-db75-4482-8ea5-c6785cd2a8e9",
   "metadata": {},
   "outputs": [],
   "source": [
    "# Create price range categories\n",
    "# Define price range categories and labels\n",
    "price_ranges = [1, 2, 3, 4]\n",
    "df['price_range_category'] = pd.Categorical(df['Price range'], categories=price_ranges, ordered=True)"
   ]
  },
  {
   "cell_type": "code",
   "execution_count": 77,
   "id": "ed776393-c302-44a9-ab6a-d009e5644f19",
   "metadata": {},
   "outputs": [],
   "source": [
    "# Group by price range category and calculate percentage of restaurants with online delivery\n",
    "delivery_by_price_range = df.groupby('price_range_category', observed=False)['Has Online delivery'].apply(lambda x: (x == 'Yes').mean() * 100)"
   ]
  },
  {
   "cell_type": "code",
   "execution_count": 78,
   "id": "cde464c3-573b-44d1-8d97-ba023b9d7ef9",
   "metadata": {},
   "outputs": [
    {
     "data": {
      "image/png": "[encoded data removed]",
      "text/plain": [
       "<Figure size 1000x600 with 1 Axes>"
      ]
     },
     "metadata": {},
     "output_type": "display_data"
    }
   ],
   "source": [
    "# Plotting\n",
    "plt.figure(figsize=(10, 6))\n",
    "delivery_by_price_range.plot(kind='bar', color='skyblue')\n",
    "plt.title('Online Delivery Availability by Price Range')\n",
    "plt.xlabel('Price Range')\n",
    "plt.ylabel('Percentage of Restaurants Offering Online Delivery')\n",
    "plt.xticks(rotation=0)\n",
    "plt.ylim(0, 100)\n",
    "plt.show()"
   ]
  },
  {
   "cell_type": "markdown",
   "id": "8a4a5437-0fc0-4f55-b935-1c26fdfd33a3",
   "metadata": {},
   "source": [
    "## TASK 2-\n",
    "\n",
    "Task : Price Range Analysis\n",
    "\n",
    "1. Determine the most common price range among all the restaurants.\n",
    "\n",
    "2. Calculate the average rating for each price range. Identify the color that represents the highest \n",
    "average rating among different price ranges."
   ]
  },
  {
   "cell_type": "code",
   "execution_count": 79,
   "id": "926fde1a-d7be-4a4b-84fa-9639f1c951d5",
   "metadata": {},
   "outputs": [],
   "source": [
    "import pandas as pd\n",
    "df = pd.read_csv('Dataset .csv')"
   ]
  },
  {
   "cell_type": "markdown",
   "id": "0098c013-e366-42f1-894e-2a9d6b19048d",
   "metadata": {},
   "source": [
    "## 1. Determine the most common price range"
   ]
  },
  {
   "cell_type": "code",
   "execution_count": 82,
   "id": "421d59d3-0e0d-47d3-8f44-e3592e1e8dc9",
   "metadata": {},
   "outputs": [
    {
     "name": "stdout",
     "output_type": "stream",
     "text": [
      "The most common price range among all restaurants is: 1\n"
     ]
    }
   ],
   "source": [
    "most_common_price_range = df['Price range'].mode().iloc[0]\n",
    "print(f\"The most common price range among all restaurants is: {most_common_price_range}\")"
   ]
  },
  {
   "cell_type": "markdown",
   "id": "c03c2faf-04b5-4910-a857-650b0995dfe4",
   "metadata": {},
   "source": [
    " ## 2. Calculate the Average Rating for Each Price Range and identify the color that represents the highest average rating"
   ]
  },
  {
   "cell_type": "code",
   "execution_count": 84,
   "id": "3f75dd3a-0f3b-41cb-bd62-a732b20e9196",
   "metadata": {},
   "outputs": [],
   "source": [
    "import pandas as pd\n",
    "df = pd.read_csv('Dataset .csv')"
   ]
  },
  {
   "cell_type": "code",
   "execution_count": 87,
   "id": "f0daee75-633c-4864-8c16-334feec0b037",
   "metadata": {},
   "outputs": [
    {
     "name": "stdout",
     "output_type": "stream",
     "text": [
      "\n",
      "Average rating for each price range:\n",
      "Price range\n",
      "1    1.999887\n",
      "2    2.941054\n",
      "3    3.683381\n",
      "4    3.817918\n",
      "Name: Aggregate rating, dtype: float64\n"
     ]
    }
   ],
   "source": [
    "average_ratings = df.groupby('Price range')['Aggregate rating'].mean()\n",
    "print(\"\\nAverage rating for each price range:\")\n",
    "print(average_ratings)"
   ]
  },
  {
   "cell_type": "code",
   "execution_count": 86,
   "id": "410a258b-deea-4cc1-bce9-6612f511bd71",
   "metadata": {},
   "outputs": [],
   "source": [
    "max_rating = average_ratings.max()\n",
    "color_highest_rating = average_ratings.idxmax()"
   ]
  },
  {
   "cell_type": "code",
   "execution_count": 88,
   "id": "4b4aff10-bc25-4ddc-b8a4-b52ba2007092",
   "metadata": {},
   "outputs": [
    {
     "name": "stdout",
     "output_type": "stream",
     "text": [
      "\n",
      "The color representing the highest average rating among different price ranges is: 4 (average rating: 3.8179180887372017)\n"
     ]
    }
   ],
   "source": [
    "print(f\"\\nThe color representing the highest average rating among different price ranges is: {color_highest_rating} (average rating: {max_rating})\")"
   ]
  },
  {
   "cell_type": "markdown",
   "id": "1713786a-bd53-47da-b2eb-a5062ac1ac80",
   "metadata": {},
   "source": [
    "## TASK 3 - \n",
    "\n",
    "Task: Feature Engineering\n",
    "\n",
    "1. Extract additional features from the existing columns, such as the length of the restaurant name or address.\n",
    "\n",
    "2. Create new features like \"Has Table Booking\" or \"Has Online Delivery\" by encoding categorical variables."
   ]
  },
  {
   "cell_type": "code",
   "execution_count": 89,
   "id": "96f3f796-d0c5-4992-8a5d-a27383b5f58e",
   "metadata": {},
   "outputs": [],
   "source": [
    "import pandas as pd\n",
    "df = pd.read_csv('Dataset .csv')"
   ]
  },
  {
   "cell_type": "markdown",
   "id": "9ffbe1e6-27e8-44cc-9c46-d71ea66f2220",
   "metadata": {},
   "source": [
    " ## 1. Extract additional features like length of restaurant name"
   ]
  },
  {
   "cell_type": "code",
   "execution_count": 92,
   "id": "3b3de6fc-6ce7-4c8c-921f-f113db23cd59",
   "metadata": {},
   "outputs": [],
   "source": [
    "df['restaurant_name_length'] = df['Restaurant Name'].apply(len)"
   ]
  },
  {
   "cell_type": "markdown",
   "id": "fa0efa76-0d55-4716-8ff4-403c14c34869",
   "metadata": {},
   "source": [
    "## 2. Create new features by encoding categorical variables\n"
   ]
  },
  {
   "cell_type": "code",
   "execution_count": 95,
   "id": "ba28232b-d4f9-45fb-9554-87db42a605eb",
   "metadata": {},
   "outputs": [],
   "source": [
    "df['Has Table booking'] = df['Has Table booking'].apply(lambda x: 1 if x == 'Yes' else 0)\n",
    "df['Has Online delivery'] = df['Has Online delivery'].apply(lambda x: 1 if x == 'Yes' else 0)"
   ]
  },
  {
   "cell_type": "code",
   "execution_count": 97,
   "id": "7149dece-de60-4b66-ab99-7f809e29b90c",
   "metadata": {},
   "outputs": [
    {
     "data": {
      "text/html": [
       "<div>\n",
       "<style scoped>\n",
       "    .dataframe tbody tr th:only-of-type {\n",
       "        vertical-align: middle;\n",
       "    }\n",
       "\n",
       "    .dataframe tbody tr th {\n",
       "        vertical-align: top;\n",
       "    }\n",
       "\n",
       "    .dataframe thead th {\n",
       "        text-align: right;\n",
       "    }\n",
       "</style>\n",
       "<table border=\"1\" class=\"dataframe\">\n",
       "  <thead>\n",
       "    <tr style=\"text-align: right;\">\n",
       "      <th></th>\n",
       "      <th>Restaurant ID</th>\n",
       "      <th>Restaurant Name</th>\n",
       "      <th>Country Code</th>\n",
       "      <th>City</th>\n",
       "      <th>Address</th>\n",
       "      <th>Locality</th>\n",
       "      <th>Locality Verbose</th>\n",
       "      <th>Longitude</th>\n",
       "      <th>Latitude</th>\n",
       "      <th>Cuisines</th>\n",
       "      <th>...</th>\n",
       "      <th>Has Online delivery</th>\n",
       "      <th>Is delivering now</th>\n",
       "      <th>Switch to order menu</th>\n",
       "      <th>Price range</th>\n",
       "      <th>Aggregate rating</th>\n",
       "      <th>Rating color</th>\n",
       "      <th>Rating text</th>\n",
       "      <th>Votes</th>\n",
       "      <th>restaurant_name_length</th>\n",
       "      <th>Has Table Booking</th>\n",
       "    </tr>\n",
       "  </thead>\n",
       "  <tbody>\n",
       "    <tr>\n",
       "      <th>0</th>\n",
       "      <td>6317637</td>\n",
       "      <td>Le Petit Souffle</td>\n",
       "      <td>162</td>\n",
       "      <td>Makati City</td>\n",
       "      <td>Third Floor, Century City Mall, Kalayaan Avenu...</td>\n",
       "      <td>Century City Mall, Poblacion, Makati City</td>\n",
       "      <td>Century City Mall, Poblacion, Makati City, Mak...</td>\n",
       "      <td>121.027535</td>\n",
       "      <td>14.565443</td>\n",
       "      <td>French, Japanese, Desserts</td>\n",
       "      <td>...</td>\n",
       "      <td>0</td>\n",
       "      <td>No</td>\n",
       "      <td>No</td>\n",
       "      <td>3</td>\n",
       "      <td>4.8</td>\n",
       "      <td>Dark Green</td>\n",
       "      <td>Excellent</td>\n",
       "      <td>314</td>\n",
       "      <td>16</td>\n",
       "      <td>1</td>\n",
       "    </tr>\n",
       "    <tr>\n",
       "      <th>1</th>\n",
       "      <td>6304287</td>\n",
       "      <td>Izakaya Kikufuji</td>\n",
       "      <td>162</td>\n",
       "      <td>Makati City</td>\n",
       "      <td>Little Tokyo, 2277 Chino Roces Avenue, Legaspi...</td>\n",
       "      <td>Little Tokyo, Legaspi Village, Makati City</td>\n",
       "      <td>Little Tokyo, Legaspi Village, Makati City, Ma...</td>\n",
       "      <td>121.014101</td>\n",
       "      <td>14.553708</td>\n",
       "      <td>Japanese</td>\n",
       "      <td>...</td>\n",
       "      <td>0</td>\n",
       "      <td>No</td>\n",
       "      <td>No</td>\n",
       "      <td>3</td>\n",
       "      <td>4.5</td>\n",
       "      <td>Dark Green</td>\n",
       "      <td>Excellent</td>\n",
       "      <td>591</td>\n",
       "      <td>16</td>\n",
       "      <td>1</td>\n",
       "    </tr>\n",
       "    <tr>\n",
       "      <th>2</th>\n",
       "      <td>6300002</td>\n",
       "      <td>Heat - Edsa Shangri-La</td>\n",
       "      <td>162</td>\n",
       "      <td>Mandaluyong City</td>\n",
       "      <td>Edsa Shangri-La, 1 Garden Way, Ortigas, Mandal...</td>\n",
       "      <td>Edsa Shangri-La, Ortigas, Mandaluyong City</td>\n",
       "      <td>Edsa Shangri-La, Ortigas, Mandaluyong City, Ma...</td>\n",
       "      <td>121.056831</td>\n",
       "      <td>14.581404</td>\n",
       "      <td>Seafood, Asian, Filipino, Indian</td>\n",
       "      <td>...</td>\n",
       "      <td>0</td>\n",
       "      <td>No</td>\n",
       "      <td>No</td>\n",
       "      <td>4</td>\n",
       "      <td>4.4</td>\n",
       "      <td>Green</td>\n",
       "      <td>Very Good</td>\n",
       "      <td>270</td>\n",
       "      <td>22</td>\n",
       "      <td>1</td>\n",
       "    </tr>\n",
       "    <tr>\n",
       "      <th>3</th>\n",
       "      <td>6318506</td>\n",
       "      <td>Ooma</td>\n",
       "      <td>162</td>\n",
       "      <td>Mandaluyong City</td>\n",
       "      <td>Third Floor, Mega Fashion Hall, SM Megamall, O...</td>\n",
       "      <td>SM Megamall, Ortigas, Mandaluyong City</td>\n",
       "      <td>SM Megamall, Ortigas, Mandaluyong City, Mandal...</td>\n",
       "      <td>121.056475</td>\n",
       "      <td>14.585318</td>\n",
       "      <td>Japanese, Sushi</td>\n",
       "      <td>...</td>\n",
       "      <td>0</td>\n",
       "      <td>No</td>\n",
       "      <td>No</td>\n",
       "      <td>4</td>\n",
       "      <td>4.9</td>\n",
       "      <td>Dark Green</td>\n",
       "      <td>Excellent</td>\n",
       "      <td>365</td>\n",
       "      <td>4</td>\n",
       "      <td>0</td>\n",
       "    </tr>\n",
       "    <tr>\n",
       "      <th>4</th>\n",
       "      <td>6314302</td>\n",
       "      <td>Sambo Kojin</td>\n",
       "      <td>162</td>\n",
       "      <td>Mandaluyong City</td>\n",
       "      <td>Third Floor, Mega Atrium, SM Megamall, Ortigas...</td>\n",
       "      <td>SM Megamall, Ortigas, Mandaluyong City</td>\n",
       "      <td>SM Megamall, Ortigas, Mandaluyong City, Mandal...</td>\n",
       "      <td>121.057508</td>\n",
       "      <td>14.584450</td>\n",
       "      <td>Japanese, Korean</td>\n",
       "      <td>...</td>\n",
       "      <td>0</td>\n",
       "      <td>No</td>\n",
       "      <td>No</td>\n",
       "      <td>4</td>\n",
       "      <td>4.8</td>\n",
       "      <td>Dark Green</td>\n",
       "      <td>Excellent</td>\n",
       "      <td>229</td>\n",
       "      <td>11</td>\n",
       "      <td>1</td>\n",
       "    </tr>\n",
       "  </tbody>\n",
       "</table>\n",
       "<p>5 rows × 23 columns</p>\n",
       "</div>"
      ],
      "text/plain": [
       "   Restaurant ID         Restaurant Name  Country Code              City  \\\n",
       "0        6317637        Le Petit Souffle           162       Makati City   \n",
       "1        6304287        Izakaya Kikufuji           162       Makati City   \n",
       "2        6300002  Heat - Edsa Shangri-La           162  Mandaluyong City   \n",
       "3        6318506                    Ooma           162  Mandaluyong City   \n",
       "4        6314302             Sambo Kojin           162  Mandaluyong City   \n",
       "\n",
       "                                             Address  \\\n",
       "0  Third Floor, Century City Mall, Kalayaan Avenu...   \n",
       "1  Little Tokyo, 2277 Chino Roces Avenue, Legaspi...   \n",
       "2  Edsa Shangri-La, 1 Garden Way, Ortigas, Mandal...   \n",
       "3  Third Floor, Mega Fashion Hall, SM Megamall, O...   \n",
       "4  Third Floor, Mega Atrium, SM Megamall, Ortigas...   \n",
       "\n",
       "                                     Locality  \\\n",
       "0   Century City Mall, Poblacion, Makati City   \n",
       "1  Little Tokyo, Legaspi Village, Makati City   \n",
       "2  Edsa Shangri-La, Ortigas, Mandaluyong City   \n",
       "3      SM Megamall, Ortigas, Mandaluyong City   \n",
       "4      SM Megamall, Ortigas, Mandaluyong City   \n",
       "\n",
       "                                    Locality Verbose   Longitude   Latitude  \\\n",
       "0  Century City Mall, Poblacion, Makati City, Mak...  121.027535  14.565443   \n",
       "1  Little Tokyo, Legaspi Village, Makati City, Ma...  121.014101  14.553708   \n",
       "2  Edsa Shangri-La, Ortigas, Mandaluyong City, Ma...  121.056831  14.581404   \n",
       "3  SM Megamall, Ortigas, Mandaluyong City, Mandal...  121.056475  14.585318   \n",
       "4  SM Megamall, Ortigas, Mandaluyong City, Mandal...  121.057508  14.584450   \n",
       "\n",
       "                           Cuisines  ...  Has Online delivery  \\\n",
       "0        French, Japanese, Desserts  ...                    0   \n",
       "1                          Japanese  ...                    0   \n",
       "2  Seafood, Asian, Filipino, Indian  ...                    0   \n",
       "3                   Japanese, Sushi  ...                    0   \n",
       "4                  Japanese, Korean  ...                    0   \n",
       "\n",
       "  Is delivering now  Switch to order menu  Price range Aggregate rating  \\\n",
       "0                No                    No            3              4.8   \n",
       "1                No                    No            3              4.5   \n",
       "2                No                    No            4              4.4   \n",
       "3                No                    No            4              4.9   \n",
       "4                No                    No            4              4.8   \n",
       "\n",
       "  Rating color  Rating text  Votes restaurant_name_length Has Table Booking  \n",
       "0   Dark Green    Excellent    314                     16                 1  \n",
       "1   Dark Green    Excellent    591                     16                 1  \n",
       "2        Green    Very Good    270                     22                 1  \n",
       "3   Dark Green    Excellent    365                      4                 0  \n",
       "4   Dark Green    Excellent    229                     11                 1  \n",
       "\n",
       "[5 rows x 23 columns]"
      ]
     },
     "execution_count": 97,
     "metadata": {},
     "output_type": "execute_result"
    }
   ],
   "source": [
    "df.head()"
   ]
  },
  {
   "cell_type": "code",
   "execution_count": null,
   "id": "0903fc24-0bf6-4694-b04d-92d279ba3327",
   "metadata": {},
   "outputs": [],
   "source": []
  }
 ],
 "metadata": {
  "kernelspec": {
   "display_name": "Python 3 (ipykernel)",
   "language": "python",
   "name": "python3"
  },
  "language_info": {
   "codemirror_mode": {
    "name": "ipython",
    "version": 3
   },
   "file_extension": ".py",
   "mimetype": "text/x-python",
   "name": "python",
   "nbconvert_exporter": "python",
   "pygments_lexer": "ipython3",
   "version": "3.12.4"
  }
 },
 "nbformat": 4,
 "nbformat_minor": 5
}
